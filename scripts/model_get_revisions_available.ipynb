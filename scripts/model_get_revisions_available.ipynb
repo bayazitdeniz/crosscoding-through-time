{
 "cells": [
  {
   "cell_type": "markdown",
   "id": "88309667",
   "metadata": {},
   "source": [
    "# Checkpoint Lister\n",
    "\n",
    "This notebook lists and saves available revisions/checkpoints\n",
    "(branches) from one or more Hugging Face repositories."
   ]
  },
  {
   "cell_type": "code",
   "execution_count": null,
   "id": "05a5df51",
   "metadata": {},
   "outputs": [
    {
     "name": "stderr",
     "output_type": "stream",
     "text": [
      "/usr/local/lib/python3.10/dist-packages/tqdm/auto.py:21: TqdmWarning: IProgress not found. Please update jupyter and ipywidgets. See https://ipywidgets.readthedocs.io/en/stable/user_install.html\n",
      "  from .autonotebook import tqdm as notebook_tqdm\n"
     ]
    }
   ],
   "source": [
    "import re\n",
    "from pathlib import Path\n",
    "from huggingface_hub import list_repo_refs\n",
    "\n",
    "# --- Parameters (edit these) ---\n",
    "outdir = Path(\".\") / \"checkpoint_lists\" # dir where .txt files will be saved\n",
    "INCLUDE_MAIN = True # include the 'main' branch\n",
    "MOVE_MAIN_TO_END = True # move 'main' to the end of the list\n",
    "\n",
    "_STEP_RE = re.compile(r\"(?:^|[^0-9])step\\s*([0-9]+)\", re.IGNORECASE)\n",
    "\n",
    "def _step_key(name=\"step\"):\n",
    "    \"\"\"\n",
    "    Extract a numeric step for sorting if present, else return a sentinel.\n",
    "    Examples matched: 'step1000', 'step-2000', 'foo-step300'.\n",
    "    \"\"\"\n",
    "    m = _STEP_RE.search(name)\n",
    "    if m:\n",
    "        try:\n",
    "            return (int(m.group(1)), name)\n",
    "        except ValueError:\n",
    "            pass\n",
    "    # Put non-step names after step-suffixed ones, but keep deterministic order by name\n",
    "    return (10**12, name)\n",
    "\n",
    "def sort_branches(branches, move_main_to_end):\n",
    "    \"\"\"Sort branches by 'step' numeric value if available, otherwise by name.\"\"\"\n",
    "    br = list(branches)\n",
    "    br.sort(key=_step_key)\n",
    "    if move_main_to_end and \"main\" in br:\n",
    "        br = [b for b in br if b != \"main\"] + [\"main\"]\n",
    "    return br\n",
    "\n",
    "def fetch_repo_branches(repo_name, include_main=True, move_main_to_end=True):\n",
    "    refs = list_repo_refs(repo_name)\n",
    "    branches = [b.name for b in getattr(refs, \"branches\", [])]\n",
    "\n",
    "    if not include_main:\n",
    "        branches = [b for b in branches if b != \"main\"]\n",
    "    ordered = sort_branches(branches=branches, move_main_to_end=move_main_to_end)\n",
    "    return ordered\n",
    "\n",
    "def default_filename(repo_name):\n",
    "    safe = repo_name.replace(\"/\", \"_\")\n",
    "    return f\"checkpoints_{safe}.txt\"\n",
    "\n",
    "def save_branches(branches, out_path):\n",
    "    out_path.parent.mkdir(parents=True, exist_ok=True)\n",
    "    with out_path.open(\"w\", encoding=\"utf-8\") as f:\n",
    "        for b in branches:\n",
    "            f.write(b + \"\\n\")\n",
    "    print(f\"Saved {len(branches)} checkpoints to {out_path}\")\n"
   ]
  },
  {
   "cell_type": "markdown",
   "id": "af53d9d3",
   "metadata": {},
   "source": [
    "### Pythia"
   ]
  },
  {
   "cell_type": "code",
   "execution_count": 2,
   "id": "39a5de52",
   "metadata": {},
   "outputs": [
    {
     "name": "stdout",
     "output_type": "stream",
     "text": [
      "Saved 155 checkpoints to checkpoint_lists/checkpoints_EleutherAI_pythia-1b.txt\n"
     ]
    }
   ],
   "source": [
    "repo_name = \"EleutherAI/pythia-1b\"\n",
    "out = list_repo_refs(repo_name)\n",
    "branches = fetch_repo_branches(\n",
    "    repo_name=repo_name, \n",
    "    include_main=INCLUDE_MAIN, \n",
    "    move_main_to_end=MOVE_MAIN_TO_END)\n",
    "save_branches(\n",
    "    branches=branches, \n",
    "    out_path=outdir / default_filename(repo_name))"
   ]
  },
  {
   "cell_type": "code",
   "execution_count": 3,
   "id": "dd5a0f8c",
   "metadata": {},
   "outputs": [
    {
     "name": "stdout",
     "output_type": "stream",
     "text": [
      "Saved 155 checkpoints to checkpoint_lists/checkpoints_EleutherAI_pythia-6.9b.txt\n"
     ]
    }
   ],
   "source": [
    "repo_name = \"EleutherAI/pythia-6.9b\"\n",
    "out = list_repo_refs(repo_name)\n",
    "branches = fetch_repo_branches(\n",
    "    repo_name=repo_name, \n",
    "    include_main=INCLUDE_MAIN, \n",
    "    move_main_to_end=MOVE_MAIN_TO_END)\n",
    "save_branches(\n",
    "    branches=branches, \n",
    "    out_path=outdir / default_filename(repo_name))"
   ]
  },
  {
   "cell_type": "markdown",
   "id": "16bf2c8d",
   "metadata": {},
   "source": [
    "### OLMo"
   ]
  },
  {
   "cell_type": "code",
   "execution_count": 4,
   "id": "980cb874",
   "metadata": {},
   "outputs": [
    {
     "name": "stdout",
     "output_type": "stream",
     "text": [
      "Saved 352 checkpoints to checkpoint_lists/checkpoints_allenai_OLMo-1B-hf.txt\n"
     ]
    }
   ],
   "source": [
    "repo_name = \"allenai/OLMo-1B-hf\"\n",
    "branches = fetch_repo_branches(\n",
    "    repo_name=repo_name, \n",
    "    include_main=INCLUDE_MAIN, \n",
    "    move_main_to_end=MOVE_MAIN_TO_END)\n",
    "save_branches(\n",
    "    branches=branches, \n",
    "    out_path=outdir / default_filename(repo_name))"
   ]
  },
  {
   "cell_type": "code",
   "execution_count": 5,
   "id": "7201881a",
   "metadata": {},
   "outputs": [
    {
     "name": "stdout",
     "output_type": "stream",
     "text": [
      "Saved 1447 checkpoints to checkpoint_lists/checkpoints_allenai_OLMo-1B-0724-hf.txt\n"
     ]
    }
   ],
   "source": [
    "repo_name = \"allenai/OLMo-1B-0724-hf\"\n",
    "branches = fetch_repo_branches(\n",
    "    repo_name=repo_name, \n",
    "    include_main=INCLUDE_MAIN, \n",
    "    move_main_to_end=MOVE_MAIN_TO_END)\n",
    "save_branches(\n",
    "    branches=branches, \n",
    "    out_path=outdir / default_filename(repo_name))"
   ]
  },
  {
   "cell_type": "code",
   "execution_count": 6,
   "id": "c8a192e6",
   "metadata": {},
   "outputs": [
    {
     "name": "stdout",
     "output_type": "stream",
     "text": [
      "Saved 820 checkpoints to checkpoint_lists/checkpoints_allenai_OLMo-7B-0724-hf.txt\n"
     ]
    }
   ],
   "source": [
    "repo_name = \"allenai/OLMo-7B-0724-hf\"\n",
    "branches = fetch_repo_branches(\n",
    "    repo_name=repo_name, \n",
    "    include_main=INCLUDE_MAIN, \n",
    "    move_main_to_end=MOVE_MAIN_TO_END)\n",
    "save_branches(\n",
    "    branches=branches, \n",
    "    out_path=outdir / default_filename(repo_name))"
   ]
  },
  {
   "cell_type": "code",
   "execution_count": 12,
   "id": "f59a4014",
   "metadata": {},
   "outputs": [
    {
     "name": "stdout",
     "output_type": "stream",
     "text": [
      "965\n",
      "965\n",
      "Saved 965 checkpoints to checkpoint_lists/checkpoints_bloom_1b1.txt\n"
     ]
    }
   ],
   "source": [
    "from huggingface_hub import list_repo_refs\n",
    "\n",
    "# Get all branches (checkpoints) for the OLMo model\n",
    "repo_name = \"allenai/OLMo-2-1124-7B\"\n",
    "out = list_repo_refs(repo_name)\n",
    "branches = [b.name for b in out.branches]\n",
    "\n",
    "stage1 = [branch for branch in branches if branch.startswith(\"stage1\")]\n",
    "stage1.sort(key=lambda x: int(x.split(\"-\")[1].split(\"step\")[1]))  # Sort by checkpoint number\n",
    "\n",
    "stage2_ing1 = [branch for branch in branches if branch.startswith(\"stage2\") and \"ingredient1\" in branch]\n",
    "stage2_ing1.sort(key=lambda x: int(x.split(\"-\")[2].split(\"step\")[1]))  # Sort by checkpoint number\n",
    "\n",
    "stage2_ing2 = [branch for branch in branches if branch.startswith(\"stage2\") and \"ingredient2\" in branch]\n",
    "stage2_ing2.sort(key=lambda x: int(x.split(\"-\")[2].split(\"step\")[1]))  # Sort by checkpoint number\n",
    "\n",
    "stage2_ing3 = [branch for branch in branches if branch.startswith(\"stage2\") and \"ingredient3\" in branch]\n",
    "stage2_ing3.sort(key=lambda x: int(x.split(\"-\")[2].split(\"step\")[1]))  # Sort by checkpoint number\n",
    "\n",
    "sorted_branches = stage1 + stage2_ing1 + stage2_ing2 + stage2_ing3 + [\"main\"]\n",
    "\n",
    "assert set(sorted_branches) == set(branches)\n",
    "print(len(sorted_branches))\n",
    "print(len(branches))\n",
    "\n",
    "out_path= \"checkpoint_lists\" + default_filename(repo_name)\n",
    "with open(out_path, \"w\") as f:\n",
    "    for branch in sorted_branches:\n",
    "        f.write(branch + \"\\n\")\n",
    "\n",
    "print(f\"Saved {len(branches)} checkpoints to {txt_name}\")"
   ]
  },
  {
   "cell_type": "code",
   "execution_count": 9,
   "id": "52e93075",
   "metadata": {},
   "outputs": [
    {
     "name": "stdout",
     "output_type": "stream",
     "text": [
      "268\n",
      "268\n",
      "Saved 268 checkpoints to checkpoint_lists/checkpoints_olmo2_1B_april.txt\n"
     ]
    }
   ],
   "source": [
    "from huggingface_hub import list_repo_refs\n",
    "\n",
    "# Get all branches (checkpoints) for the OLMo model\n",
    "repo_name = \"allenai/OLMo-2-0425-1B\"\n",
    "out = list_repo_refs(repo_name)\n",
    "branches = [b.name for b in out.branches]\n",
    "\n",
    "stage1 = [branch for branch in branches if branch.startswith(\"stage1\")]\n",
    "stage1.sort(key=lambda x: int(x.split(\"-\")[1].split(\"step\")[1]))  # Sort by checkpoint number\n",
    "\n",
    "stage2_ing1 = [branch for branch in branches if branch.startswith(\"stage2\") and \"ingredient1\" in branch]\n",
    "stage2_ing1.sort(key=lambda x: int(x.split(\"-\")[2].split(\"step\")[1]))  # Sort by checkpoint number\n",
    "\n",
    "stage2_ing2 = [branch for branch in branches if branch.startswith(\"stage2\") and \"ingredient2\" in branch]\n",
    "stage2_ing2.sort(key=lambda x: int(x.split(\"-\")[2].split(\"step\")[1]))  # Sort by checkpoint number\n",
    "\n",
    "stage2_ing3 = [branch for branch in branches if branch.startswith(\"stage2\") and \"ingredient3\" in branch]\n",
    "stage2_ing3.sort(key=lambda x: int(x.split(\"-\")[2].split(\"step\")[1]))  # Sort by checkpoint number\n",
    "\n",
    "sorted_branches = stage1 + stage2_ing1 + stage2_ing2 + stage2_ing3 + [\"main\"]\n",
    "\n",
    "assert set(sorted_branches) == set(branches)\n",
    "print(len(sorted_branches))\n",
    "print(len(branches))\n",
    "# Save to a text file\n",
    "txt_name = \"checkpoint_lists/checkpoints_olmo2_1B_april.txt\"\n",
    "with open(txt_name, \"w\") as f:\n",
    "    for branch in sorted_branches:\n",
    "        f.write(branch + \"\\n\")\n",
    "\n",
    "print(f\"Saved {len(branches)} checkpoints to {txt_name}\")"
   ]
  },
  {
   "cell_type": "markdown",
   "id": "b7721398",
   "metadata": {},
   "source": [
    "### BLOOM"
   ]
  },
  {
   "cell_type": "code",
   "execution_count": null,
   "id": "d43fb0a1",
   "metadata": {},
   "outputs": [
    {
     "name": "stdout",
     "output_type": "stream",
     "text": [
      "GitRefs(branches=[GitRefInfo(name='main', ref='refs/heads/main', target_commit='5f57bed76d881bf87b3dbfcf6abb23957bea6048')], converts=[], tags=[GitRefInfo(name='global_step1000', ref='refs/tags/global_step1000', target_commit='db7749f2f5a4cb47e092251d29ed7341ff647bab'), GitRefInfo(name='global_step10000', ref='refs/tags/global_step10000', target_commit='28de8f9c9edc6080f964e23ef4d978d538a16905'), GitRefInfo(name='global_step100000', ref='refs/tags/global_step100000', target_commit='15e08069b71d6d90c4d6d0cf5c435655b7a58952'), GitRefInfo(name='global_step200000', ref='refs/tags/global_step200000', target_commit='693f62167abb4c55c09c288504ccf58d2539a3ae'), GitRefInfo(name='global_step300000', ref='refs/tags/global_step300000', target_commit='e061bb33d130b5f1ce4dbe95c195930a2dcd124a'), GitRefInfo(name='global_step400000', ref='refs/tags/global_step400000', target_commit='a758d93ecb5f0e4d7390137a56e42b4c32988fcb'), GitRefInfo(name='global_step500000', ref='refs/tags/global_step500000', target_commit='4efa990599bde074d204b3873bf11dea0f02b594'), GitRefInfo(name='global_step600000', ref='refs/tags/global_step600000', target_commit='cc09fe7da9740ebf5e2b7c1784aa80fff97128fd')], pull_requests=None)\n",
      "['global_step1000', 'global_step10000', 'global_step100000', 'global_step200000', 'global_step300000', 'global_step400000', 'global_step500000', 'global_step600000']\n",
      "9\n",
      "Saved 9 checkpoints to checkpoint_lists/checkpoints_bloom_1b1.txt\n"
     ]
    }
   ],
   "source": [
    "from huggingface_hub import list_repo_refs\n",
    "from transformers import AutoModelForCausalLM, AutoTokenizer\n",
    "\n",
    "\n",
    "# Get all branches (checkpoints) for the OLMo model\n",
    "repo_name = \"bigscience/bloom-1b1-intermediate\"\n",
    "out = list_repo_refs(repo_name)\n",
    "print(out)\n",
    "branches = [t.name for t in out.tags if t.name.startswith(\"global_step\")]\n",
    "print(branches)\n",
    "# branches.remove(\"main\")  # Remove the main branch\n",
    "branches.sort(key=lambda x: int(x.split(\"-\")[0].split(\"global_step\")[1]))  # Sort by checkpoint number\n",
    "\n",
    "branches.append(\"main\")\n",
    "print(len(branches))\n",
    "# Save to a text file\n",
    "txt_name = \"checkpoint_lists/checkpoints_bloom_1b1.txt\"\n",
    "\n",
    "with open(txt_name, \"w\") as f:\n",
    "    for branch in branches:\n",
    "        f.write(branch + \"\\n\")\n",
    "\n",
    "print(f\"Saved {len(branches)} checkpoints to {txt_name}\")"
   ]
  }
 ],
 "metadata": {
  "kernelspec": {
   "display_name": "Python 3",
   "language": "python",
   "name": "python3"
  },
  "language_info": {
   "codemirror_mode": {
    "name": "ipython",
    "version": 3
   },
   "file_extension": ".py",
   "mimetype": "text/x-python",
   "name": "python",
   "nbconvert_exporter": "python",
   "pygments_lexer": "ipython3",
   "version": "3.10.12"
  }
 },
 "nbformat": 4,
 "nbformat_minor": 5
}
